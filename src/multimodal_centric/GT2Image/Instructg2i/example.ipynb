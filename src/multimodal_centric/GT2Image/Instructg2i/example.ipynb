{
 "cells": [
  {
   "cell_type": "code",
   "execution_count": 2,
   "id": "c7d520b1",
   "metadata": {},
   "outputs": [
    {
     "name": "stderr",
     "output_type": "stream",
     "text": [
      "usage: ipykernel_launcher.py [-h] [--config CONFIG]\n",
      "ipykernel_launcher.py: error: unrecognized arguments: --f=/home/ai/.local/share/jupyter/runtime/kernel-v390f4240f7745dbf9ccb0e3488434a0bd483b2361.json\n"
     ]
    },
    {
     "ename": "SystemExit",
     "evalue": "2",
     "output_type": "error",
     "traceback": [
      "An exception has occurred, use %tb to see the full traceback.\n",
      "\u001b[0;31mSystemExit\u001b[0m\u001b[0;31m:\u001b[0m 2\n"
     ]
    }
   ],
   "source": [
    "import os\n",
    "import math\n",
    "import argparse\n",
    "import numpy as np\n",
    "import json\n",
    "from tqdm import tqdm\n",
    "from PIL import Image\n",
    "import torch\n",
    "from transformers import (\n",
    "    CLIPModel,\n",
    "    CLIPProcessor,\n",
    "    AutoModel,\n",
    "    AutoImageProcessor,\n",
    ")\n",
    "from torchvision import transforms\n",
    "from torchmetrics.image.fid import FrechetInceptionDistance\n",
    "# (改) 改回下面的注释\n",
    "# from .GraphAdapter import PadToSquare\n",
    "# from .infer_pipeline import InstructG2IPipeline\n",
    "from instructg2i.GraphAdapter import PadToSquare\n",
    "from instructg2i.infer_pipeline import InstructG2IPipeline\n",
    "import wandb\n",
    "\n",
    "def load_config(config_path):\n",
    "    with open(config_path, 'r') as f:\n",
    "        config = json.load(f)\n",
    "    return config\n",
    "\n",
    "parser = argparse.ArgumentParser(description=\"Run inference with InstructG2I.\")\n",
    "# (改) 改下面路径\n",
    "# parser.add_argument(\"--config\", type=str, required=True, help=\"Path to the config file.\")\n",
    "parser.add_argument(\"--config\", \n",
    "                    type=str, \n",
    "                    default='./config/test_goodreaders.json',\n",
    "                    help=\"Path to the config file.\")\n",
    "args = parser.parse_args()\n",
    "\n",
    "config = load_config(args.config)\n",
    "args = argparse.Namespace(**config)\n",
    "\n",
    "def read_data(test_dir):\n",
    "    data = []\n",
    "    with open(os.path.join(test_dir, 'metadata.jsonl')) as f:\n",
    "        readin = f.readlines()\n",
    "        for line in tqdm(readin):\n",
    "            tmp = json.loads(line)\n",
    "            data.append({\n",
    "                'text': tmp['text'],\n",
    "                'center_image': Image.open(os.path.join(test_dir, tmp['center'])).convert(\"RGB\"),\n",
    "                'neighbor_image': [Image.open(os.path.join(test_dir, fname)).convert(\"RGB\") for fname in tmp[args.neighbor_key]]\n",
    "            })\n",
    "    return data\n",
    "\n",
    "# Evaluator\n",
    "# clip_id = \"openai/clip-vit-large-patch14\"\n",
    "# dino_id = \"facebook/dinov2-large\"\n",
    "clip_id = os.path.join(args.cache_dir,\"clip-vit-large-patch14\")\n",
    "dino_id = os.path.join(args.cache_dir,\"dinov2-large\")\n",
    "clip_model = CLIPModel.from_pretrained(clip_id, cache_dir=args.cache_dir).to(args.device)\n",
    "clip_processor = CLIPProcessor.from_pretrained(clip_id, cache_dir=args.cache_dir)\n",
    "dino_model = AutoModel.from_pretrained(dino_id, cache_dir=args.cache_dir).to(args.device)\n",
    "dino_processor = AutoImageProcessor.from_pretrained(dino_id, cache_dir=args.cache_dir)"
   ]
  },
  {
   "cell_type": "code",
   "execution_count": 3,
   "id": "16f9b4eb",
   "metadata": {},
   "outputs": [
    {
     "ename": "SystemExit",
     "evalue": "2",
     "output_type": "error",
     "traceback": [
      "\u001b[0;31m---------------------------------------------------------------------------\u001b[0m",
      "\u001b[0;31mSystemExit\u001b[0m                                Traceback (most recent call last)",
      "Cell \u001b[0;32mIn[2], line 36\u001b[0m\n\u001b[1;32m     30\u001b[0m \u001b[38;5;66;03m# (改) 改下面路径\u001b[39;00m\n\u001b[1;32m     31\u001b[0m \u001b[38;5;66;03m# parser.add_argument(\"--config\", type=str, required=True, help=\"Path to the config file.\")\u001b[39;00m\n\u001b[1;32m     32\u001b[0m parser\u001b[38;5;241m.\u001b[39madd_argument(\u001b[38;5;124m\"\u001b[39m\u001b[38;5;124m--config\u001b[39m\u001b[38;5;124m\"\u001b[39m, \n\u001b[1;32m     33\u001b[0m                     \u001b[38;5;28mtype\u001b[39m\u001b[38;5;241m=\u001b[39m\u001b[38;5;28mstr\u001b[39m, \n\u001b[1;32m     34\u001b[0m                     default\u001b[38;5;241m=\u001b[39m\u001b[38;5;124m'\u001b[39m\u001b[38;5;124m./config/test_goodreaders.json\u001b[39m\u001b[38;5;124m'\u001b[39m,\n\u001b[1;32m     35\u001b[0m                     help\u001b[38;5;241m=\u001b[39m\u001b[38;5;124m\"\u001b[39m\u001b[38;5;124mPath to the config file.\u001b[39m\u001b[38;5;124m\"\u001b[39m)\n\u001b[0;32m---> 36\u001b[0m args \u001b[38;5;241m=\u001b[39m \u001b[43mparser\u001b[49m\u001b[38;5;241;43m.\u001b[39;49m\u001b[43mparse_args\u001b[49m\u001b[43m(\u001b[49m\u001b[43m)\u001b[49m\n\u001b[1;32m     38\u001b[0m config \u001b[38;5;241m=\u001b[39m load_config(args\u001b[38;5;241m.\u001b[39mconfig)\n\u001b[1;32m     39\u001b[0m args \u001b[38;5;241m=\u001b[39m argparse\u001b[38;5;241m.\u001b[39mNamespace(\u001b[38;5;241m*\u001b[39m\u001b[38;5;241m*\u001b[39mconfig)\n",
      "File \u001b[0;32m~/anaconda3/envs/instructg2i/lib/python3.10/argparse.py:1823\u001b[0m, in \u001b[0;36mArgumentParser.parse_args\u001b[0;34m(self, args, namespace)\u001b[0m\n\u001b[1;32m   1821\u001b[0m \u001b[38;5;28;01mif\u001b[39;00m argv:\n\u001b[1;32m   1822\u001b[0m     msg \u001b[38;5;241m=\u001b[39m _(\u001b[38;5;124m'\u001b[39m\u001b[38;5;124munrecognized arguments: \u001b[39m\u001b[38;5;132;01m%s\u001b[39;00m\u001b[38;5;124m'\u001b[39m)\n\u001b[0;32m-> 1823\u001b[0m     \u001b[38;5;28;43mself\u001b[39;49m\u001b[38;5;241;43m.\u001b[39;49m\u001b[43merror\u001b[49m\u001b[43m(\u001b[49m\u001b[43mmsg\u001b[49m\u001b[43m \u001b[49m\u001b[38;5;241;43m%\u001b[39;49m\u001b[43m \u001b[49m\u001b[38;5;124;43m'\u001b[39;49m\u001b[38;5;124;43m \u001b[39;49m\u001b[38;5;124;43m'\u001b[39;49m\u001b[38;5;241;43m.\u001b[39;49m\u001b[43mjoin\u001b[49m\u001b[43m(\u001b[49m\u001b[43margv\u001b[49m\u001b[43m)\u001b[49m\u001b[43m)\u001b[49m\n\u001b[1;32m   1824\u001b[0m \u001b[38;5;28;01mreturn\u001b[39;00m args\n",
      "File \u001b[0;32m~/anaconda3/envs/instructg2i/lib/python3.10/argparse.py:2577\u001b[0m, in \u001b[0;36mArgumentParser.error\u001b[0;34m(self, message)\u001b[0m\n\u001b[1;32m   2575\u001b[0m \u001b[38;5;28mself\u001b[39m\u001b[38;5;241m.\u001b[39mprint_usage(_sys\u001b[38;5;241m.\u001b[39mstderr)\n\u001b[1;32m   2576\u001b[0m args \u001b[38;5;241m=\u001b[39m {\u001b[38;5;124m'\u001b[39m\u001b[38;5;124mprog\u001b[39m\u001b[38;5;124m'\u001b[39m: \u001b[38;5;28mself\u001b[39m\u001b[38;5;241m.\u001b[39mprog, \u001b[38;5;124m'\u001b[39m\u001b[38;5;124mmessage\u001b[39m\u001b[38;5;124m'\u001b[39m: message}\n\u001b[0;32m-> 2577\u001b[0m \u001b[38;5;28;43mself\u001b[39;49m\u001b[38;5;241;43m.\u001b[39;49m\u001b[43mexit\u001b[49m\u001b[43m(\u001b[49m\u001b[38;5;241;43m2\u001b[39;49m\u001b[43m,\u001b[49m\u001b[43m \u001b[49m\u001b[43m_\u001b[49m\u001b[43m(\u001b[49m\u001b[38;5;124;43m'\u001b[39;49m\u001b[38;5;132;43;01m%(prog)s\u001b[39;49;00m\u001b[38;5;124;43m: error: \u001b[39;49m\u001b[38;5;132;43;01m%(message)s\u001b[39;49;00m\u001b[38;5;130;43;01m\\n\u001b[39;49;00m\u001b[38;5;124;43m'\u001b[39;49m\u001b[43m)\u001b[49m\u001b[43m \u001b[49m\u001b[38;5;241;43m%\u001b[39;49m\u001b[43m \u001b[49m\u001b[43margs\u001b[49m\u001b[43m)\u001b[49m\n",
      "File \u001b[0;32m~/anaconda3/envs/instructg2i/lib/python3.10/argparse.py:2564\u001b[0m, in \u001b[0;36mArgumentParser.exit\u001b[0;34m(self, status, message)\u001b[0m\n\u001b[1;32m   2562\u001b[0m \u001b[38;5;28;01mif\u001b[39;00m message:\n\u001b[1;32m   2563\u001b[0m     \u001b[38;5;28mself\u001b[39m\u001b[38;5;241m.\u001b[39m_print_message(message, _sys\u001b[38;5;241m.\u001b[39mstderr)\n\u001b[0;32m-> 2564\u001b[0m \u001b[43m_sys\u001b[49m\u001b[38;5;241;43m.\u001b[39;49m\u001b[43mexit\u001b[49m\u001b[43m(\u001b[49m\u001b[43mstatus\u001b[49m\u001b[43m)\u001b[49m\n",
      "\u001b[0;31mSystemExit\u001b[0m: 2"
     ]
    }
   ],
   "source": [
    "%tb"
   ]
  },
  {
   "cell_type": "code",
   "execution_count": null,
   "id": "8fa4b977",
   "metadata": {},
   "outputs": [],
   "source": [
    "print(args.neighbor_key)\n",
    "\n",
    "# read the data\n",
    "print('Reading data...')\n",
    "dataset = read_data(args.test_dir)\n",
    "\n",
    "# image transformation function\n",
    "neighbor_transforms = transforms.Compose(\n",
    "            [\n",
    "                PadToSquare(fill=(args.resolution, args.resolution, args.resolution), padding_mode='constant'),\n",
    "                transforms.Resize(args.resolution, interpolation=transforms.InterpolationMode.BILINEAR),\n",
    "                transforms.CenterCrop(args.resolution)\n",
    "            ]\n",
    "    )\n",
    "\n",
    "def neighbor_transform_func(neighbor_images, gt_image):\n",
    "    neighbor_image = [neighbor_transforms(n_img) for n_img in neighbor_images]\n",
    "    neighbor_image += [neighbor_transforms(Image.fromarray(np.uint8(np.zeros_like(np.array(gt_image)))).convert('RGB'))] * (args.neighbor_num - len(neighbor_image))\n",
    "    return neighbor_image\n",
    "\n",
    "def neighbor_mask_func(neighbor_images):\n",
    "    neighbor_mask = [1] * len(neighbor_images)\n",
    "    neighbor_mask += [0] * (args.neighbor_num - len(neighbor_mask))\n",
    "    return neighbor_mask\n",
    "\n",
    "# init the pipeline(加载模型！最重要一步)\n",
    "print('Loading diffusion model...')\n",
    "pipe_graph2img = InstructG2IPipeline.from_pretrained(args.model_dir, args.neighbor_num, device=args.device)\n",
    "\n",
    "# run inference\n",
    "print('Scoring...')\n",
    "img_clip_scores = []\n",
    "dinov2_scores = []\n",
    "\n",
    "print(f'Total testing data:{len(dataset)}, max index: {args.max_index}')\n",
    "assert args.max_index <= len(dataset)\n",
    "num_diff_iter = math.ceil(args.max_index / args.diffusion_infer_batch_size)\n",
    "num_score_iter = math.ceil(args.max_index / args.score_batch_size)\n",
    "\n",
    "# diffusion model inference\n",
    "gt_images = []\n",
    "gen_images = []"
   ]
  },
  {
   "cell_type": "code",
   "execution_count": null,
   "id": "9e93f557",
   "metadata": {},
   "outputs": [],
   "source": [
    "idx=0\n",
    "start = idx * args.diffusion_infer_batch_size\n",
    "end = min(args.max_index, (idx + 1) * args.diffusion_infer_batch_size)\n",
    "\n",
    "# get current batch data\n",
    "texts = [dataset[idd]['text'] for idd in range(start, end)]\n",
    "neighbor_images = [neighbor_transform_func(dataset[idd][\"neighbor_image\"][:args.neighbor_num], dataset[idd][\"center_image\"]) for idd in range(start, end)]\n",
    "# 其实并不是mask，没有遮盖住实际存在的邻居，而是确定每一个位置是否有邻居，为存在邻居标记1，不存在标记0，总长度为args.neighbor_num\n",
    "neighbor_masks = [neighbor_mask_func(dataset[idd][\"neighbor_image\"][:args.neighbor_num]) for idd in range(start, end)]\n",
    "        \n",
    "gen_image = pipe_graph2img(prompt=texts, neighbor_image=neighbor_images, neighbor_mask=torch.LongTensor(neighbor_masks), num_inference_steps=args.num_inference_steps).images"
   ]
  },
  {
   "cell_type": "code",
   "execution_count": null,
   "id": "3ad1dd9b",
   "metadata": {},
   "outputs": [],
   "source": [
    "gen_image[0].show()"
   ]
  }
 ],
 "metadata": {
  "kernelspec": {
   "display_name": "instructg2i",
   "language": "python",
   "name": "python3"
  },
  "language_info": {
   "codemirror_mode": {
    "name": "ipython",
    "version": 3
   },
   "file_extension": ".py",
   "mimetype": "text/x-python",
   "name": "python",
   "nbconvert_exporter": "python",
   "pygments_lexer": "ipython3",
   "version": "3.10.0"
  }
 },
 "nbformat": 4,
 "nbformat_minor": 5
}
